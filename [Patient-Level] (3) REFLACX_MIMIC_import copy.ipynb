{
 "cells": [
  {
   "cell_type": "code",
   "execution_count": 1,
   "metadata": {},
   "outputs": [],
   "source": [
    "import os\n",
    "import pandas as pd\n",
    "from tqdm.notebook  import tqdm\n",
    "from shutil import copytree, copy\n",
    "from data_path import  REFLACX_FOLDER_PATH, XAMI_SPREADSHEET_FOLDER_PATH, XAMI_MIMIC_PATH\n",
    "from utils.getter import get_cxr_match_by_dicom_ids\n",
    "\n",
    "pd.options.mode.chained_assignment  = None"
   ]
  },
  {
   "cell_type": "code",
   "execution_count": 2,
   "metadata": {},
   "outputs": [
    {
     "data": {
      "text/html": [
       "<div>\n",
       "<style scoped>\n",
       "    .dataframe tbody tr th:only-of-type {\n",
       "        vertical-align: middle;\n",
       "    }\n",
       "\n",
       "    .dataframe tbody tr th {\n",
       "        vertical-align: top;\n",
       "    }\n",
       "\n",
       "    .dataframe thead th {\n",
       "        text-align: right;\n",
       "    }\n",
       "</style>\n",
       "<table border=\"1\" class=\"dataframe\">\n",
       "  <thead>\n",
       "    <tr style=\"text-align: right;\">\n",
       "      <th></th>\n",
       "      <th>dicom_id</th>\n",
       "      <th>subject_id</th>\n",
       "      <th>study_id</th>\n",
       "      <th>PerformedProcedureStepDescription</th>\n",
       "      <th>ViewPosition</th>\n",
       "      <th>Rows</th>\n",
       "      <th>Columns</th>\n",
       "      <th>StudyDate</th>\n",
       "      <th>StudyTime</th>\n",
       "      <th>ProcedureCodeSequence_CodeMeaning</th>\n",
       "      <th>ViewCodeSequence_CodeMeaning</th>\n",
       "      <th>PatientOrientationCodeSequence_CodeMeaning</th>\n",
       "      <th>in_eye_gaze</th>\n",
       "      <th>in_reflacx</th>\n",
       "      <th>StudyDateTime</th>\n",
       "      <th>stay_id</th>\n",
       "    </tr>\n",
       "  </thead>\n",
       "  <tbody>\n",
       "    <tr>\n",
       "      <th>177</th>\n",
       "      <td>fa771fa1-d9571d07-bff8f655-327734a7-6e10b29d</td>\n",
       "      <td>10002428</td>\n",
       "      <td>59258773</td>\n",
       "      <td>CHEST (PORTABLE AP)</td>\n",
       "      <td>AP</td>\n",
       "      <td>3056</td>\n",
       "      <td>2544</td>\n",
       "      <td>21560419</td>\n",
       "      <td>92717.109</td>\n",
       "      <td>CHEST (PORTABLE AP)</td>\n",
       "      <td>antero-posterior</td>\n",
       "      <td>Erect</td>\n",
       "      <td>False</td>\n",
       "      <td>True</td>\n",
       "      <td>2.156042e+12</td>\n",
       "      <td>NaN</td>\n",
       "    </tr>\n",
       "    <tr>\n",
       "      <th>181</th>\n",
       "      <td>4873aa08-977bfd31-fb492e64-6ef432d1-3f12cbe3</td>\n",
       "      <td>10002430</td>\n",
       "      <td>53254222</td>\n",
       "      <td>CHEST (PA AND LAT)</td>\n",
       "      <td>PA</td>\n",
       "      <td>3056</td>\n",
       "      <td>2544</td>\n",
       "      <td>21250928</td>\n",
       "      <td>160736.171</td>\n",
       "      <td>CHEST (PA AND LAT)</td>\n",
       "      <td>postero-anterior</td>\n",
       "      <td>Erect</td>\n",
       "      <td>True</td>\n",
       "      <td>False</td>\n",
       "      <td>2.125093e+13</td>\n",
       "      <td>31293660.0</td>\n",
       "    </tr>\n",
       "    <tr>\n",
       "      <th>266</th>\n",
       "      <td>dcdc4bd9-4301b111-2a65a814-ee8e7bc5-7f0b9a5a</td>\n",
       "      <td>10003400</td>\n",
       "      <td>56466802</td>\n",
       "      <td>CHEST (PORTABLE AP)</td>\n",
       "      <td>AP</td>\n",
       "      <td>3056</td>\n",
       "      <td>2544</td>\n",
       "      <td>21361209</td>\n",
       "      <td>133738.015</td>\n",
       "      <td>CHEST (PORTABLE AP)</td>\n",
       "      <td>antero-posterior</td>\n",
       "      <td>Erect</td>\n",
       "      <td>False</td>\n",
       "      <td>True</td>\n",
       "      <td>2.136121e+13</td>\n",
       "      <td>33678912.0</td>\n",
       "    </tr>\n",
       "    <tr>\n",
       "      <th>497</th>\n",
       "      <td>5bdabba9-388f6646-ac06b5f5-f68b2fd2-3630de21</td>\n",
       "      <td>10011607</td>\n",
       "      <td>55814288</td>\n",
       "      <td>CHEST (PA AND LAT)</td>\n",
       "      <td>AP</td>\n",
       "      <td>3056</td>\n",
       "      <td>2544</td>\n",
       "      <td>21820111</td>\n",
       "      <td>230933.250</td>\n",
       "      <td>CHEST (PA AND LAT)</td>\n",
       "      <td>antero-posterior</td>\n",
       "      <td>Erect</td>\n",
       "      <td>False</td>\n",
       "      <td>True</td>\n",
       "      <td>2.182011e+13</td>\n",
       "      <td>37054412.0</td>\n",
       "    </tr>\n",
       "    <tr>\n",
       "      <th>539</th>\n",
       "      <td>4a629500-9c3281ca-90bab490-9b6ac9c1-e5e6a580</td>\n",
       "      <td>10012261</td>\n",
       "      <td>53728467</td>\n",
       "      <td>CHEST (PORTABLE AP)</td>\n",
       "      <td>AP</td>\n",
       "      <td>2544</td>\n",
       "      <td>3056</td>\n",
       "      <td>21750906</td>\n",
       "      <td>191151.453</td>\n",
       "      <td>CHEST (PORTABLE AP)</td>\n",
       "      <td>antero-posterior</td>\n",
       "      <td>Erect</td>\n",
       "      <td>False</td>\n",
       "      <td>True</td>\n",
       "      <td>2.175091e+13</td>\n",
       "      <td>38668412.0</td>\n",
       "    </tr>\n",
       "  </tbody>\n",
       "</table>\n",
       "</div>"
      ],
      "text/plain": [
       "                                         dicom_id  subject_id  study_id  \\\n",
       "177  fa771fa1-d9571d07-bff8f655-327734a7-6e10b29d    10002428  59258773   \n",
       "181  4873aa08-977bfd31-fb492e64-6ef432d1-3f12cbe3    10002430  53254222   \n",
       "266  dcdc4bd9-4301b111-2a65a814-ee8e7bc5-7f0b9a5a    10003400  56466802   \n",
       "497  5bdabba9-388f6646-ac06b5f5-f68b2fd2-3630de21    10011607  55814288   \n",
       "539  4a629500-9c3281ca-90bab490-9b6ac9c1-e5e6a580    10012261  53728467   \n",
       "\n",
       "    PerformedProcedureStepDescription ViewPosition  Rows  Columns  StudyDate  \\\n",
       "177               CHEST (PORTABLE AP)           AP  3056     2544   21560419   \n",
       "181                CHEST (PA AND LAT)           PA  3056     2544   21250928   \n",
       "266               CHEST (PORTABLE AP)           AP  3056     2544   21361209   \n",
       "497                CHEST (PA AND LAT)           AP  3056     2544   21820111   \n",
       "539               CHEST (PORTABLE AP)           AP  2544     3056   21750906   \n",
       "\n",
       "      StudyTime ProcedureCodeSequence_CodeMeaning  \\\n",
       "177   92717.109               CHEST (PORTABLE AP)   \n",
       "181  160736.171                CHEST (PA AND LAT)   \n",
       "266  133738.015               CHEST (PORTABLE AP)   \n",
       "497  230933.250                CHEST (PA AND LAT)   \n",
       "539  191151.453               CHEST (PORTABLE AP)   \n",
       "\n",
       "    ViewCodeSequence_CodeMeaning PatientOrientationCodeSequence_CodeMeaning  \\\n",
       "177             antero-posterior                                      Erect   \n",
       "181             postero-anterior                                      Erect   \n",
       "266             antero-posterior                                      Erect   \n",
       "497             antero-posterior                                      Erect   \n",
       "539             antero-posterior                                      Erect   \n",
       "\n",
       "     in_eye_gaze  in_reflacx  StudyDateTime     stay_id  \n",
       "177        False        True   2.156042e+12         NaN  \n",
       "181         True       False   2.125093e+13  31293660.0  \n",
       "266        False        True   2.136121e+13  33678912.0  \n",
       "497        False        True   2.182011e+13  37054412.0  \n",
       "539        False        True   2.175091e+13  38668412.0  "
      ]
     },
     "execution_count": 2,
     "metadata": {},
     "output_type": "execute_result"
    }
   ],
   "source": [
    "cxr_meta_df = pd.read_csv(os.path.join(XAMI_SPREADSHEET_FOLDER_PATH ,\"cxr_meta.csv\"), index_col=0)\n",
    "cxr_meta_df.head(5)"
   ]
  },
  {
   "cell_type": "code",
   "execution_count": 3,
   "metadata": {},
   "outputs": [],
   "source": [
    "reflacx_meta_df = pd.concat([pd.read_csv(os.path.join(\n",
    "    REFLACX_FOLDER_PATH, \"main_data\", f\"metadata_phase_{i}.csv\")) for i in range(1, 4)])\n",
    "os.makedirs(os.path.join(\n",
    "    XAMI_SPREADSHEET_FOLDER_PATH, \"REFLACX\"), exist_ok=True)\n",
    "reflacx_meta_df.to_csv(os.path.join(\n",
    "    XAMI_SPREADSHEET_FOLDER_PATH, \"REFLACX\", \"metadata.csv\"))\n"
   ]
  },
  {
   "cell_type": "code",
   "execution_count": 4,
   "metadata": {},
   "outputs": [
    {
     "name": "stdout",
     "output_type": "stream",
     "text": [
      "We have 3052 in the REFLACX dataset can be used with clinical data.\n"
     ]
    }
   ],
   "source": [
    "with_clinical_count = len(reflacx_meta_df[reflacx_meta_df['dicom_id'].isin(set(cxr_meta_df['dicom_id']))])\n",
    "print(f\"We have {with_clinical_count} in the REFLACX dataset can be used with clinical data.\")"
   ]
  },
  {
   "cell_type": "code",
   "execution_count": 5,
   "metadata": {},
   "outputs": [],
   "source": [
    "all_patients_to_import = list(set(reflacx_meta_df['subject_id']))"
   ]
  },
  {
   "cell_type": "code",
   "execution_count": 6,
   "metadata": {},
   "outputs": [
    {
     "data": {
      "application/vnd.jupyter.widget-view+json": {
       "model_id": "21be16478ffc4c0e97c451d7013891fc",
       "version_major": 2,
       "version_minor": 0
      },
      "text/plain": [
       "  0%|          | 0/2199 [00:00<?, ?it/s]"
      ]
     },
     "metadata": {},
     "output_type": "display_data"
    }
   ],
   "source": [
    "for subject_id in tqdm(all_patients_to_import):\n",
    "    match_meta_df = reflacx_meta_df[\n",
    "        reflacx_meta_df[\"subject_id\"] == subject_id]\n",
    "    all_dicom_ids = list(match_meta_df['dicom_id'])\n",
    "\n",
    "    save_folder_path = os.path.join(XAMI_MIMIC_PATH, f\"patient_{subject_id}\", \"REFLACX\")\n",
    "\n",
    "    # create folders\n",
    "    os.makedirs(save_folder_path, exist_ok=True)\n",
    "    os.makedirs(os.path.join(save_folder_path, \"main_data\"), exist_ok=True)\n",
    "    os.makedirs(os.path.join(save_folder_path, \"gaze_data\"), exist_ok=True)\n",
    "\n",
    "    match_meta_df.to_csv(os.path.join(save_folder_path, \"metadata.csv\"))\n",
    "\n",
    "    all_study_ids = list(match_meta_df['id'])\n",
    "    \n",
    "    for study_id in all_study_ids:\n",
    "            main_source_path = os.path.join(\n",
    "                REFLACX_FOLDER_PATH, \"main_data\", study_id)\n",
    "            main_destination_path = os.path.join(save_folder_path, \"main_data\",study_id)\n",
    "            copytree(main_source_path, main_destination_path, dirs_exist_ok=True, copy_function=copy)\n",
    "\n",
    "            # also do this for gaze data\n",
    "            gaze_source_path = os.path.join(\n",
    "                REFLACX_FOLDER_PATH, \"gaze_data\", study_id)\n",
    "            gaze_destination_path = os.path.join(save_folder_path, \"gaze_data\",study_id)\n",
    "            copytree(gaze_source_path, gaze_destination_path, dirs_exist_ok=True, copy_function=copy)"
   ]
  },
  {
   "cell_type": "code",
   "execution_count": null,
   "metadata": {},
   "outputs": [],
   "source": [
    "    "
   ]
  },
  {
   "cell_type": "code",
   "execution_count": null,
   "metadata": {},
   "outputs": [],
   "source": []
  }
 ],
 "metadata": {
  "kernelspec": {
   "display_name": "pytorch",
   "language": "python",
   "name": "python3"
  },
  "language_info": {
   "codemirror_mode": {
    "name": "ipython",
    "version": 3
   },
   "file_extension": ".py",
   "mimetype": "text/x-python",
   "name": "python",
   "nbconvert_exporter": "python",
   "pygments_lexer": "ipython3",
   "version": "3.10.8"
  },
  "orig_nbformat": 4,
  "vscode": {
   "interpreter": {
    "hash": "05ebdd47fe7a4051acc4227c2d648dd2aae7424f451cfb0e2d4bf70d17920b33"
   }
  }
 },
 "nbformat": 4,
 "nbformat_minor": 2
}
