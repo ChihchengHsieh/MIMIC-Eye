{
 "cells": [
  {
   "cell_type": "code",
   "execution_count": null,
   "metadata": {},
   "outputs": [],
   "source": [
    "import os\n",
    "import pandas as pd\n",
    "from tqdm.notebook  import tqdm\n",
    "from shutil import copytree, copy\n",
    "from data_path import CXR_FOLDER_PATH, XAMI_SPREADSHEET_FOLDER_PATH, XAMI_MIMIC_PATH, CXR_DICOM_FOLDER_PATH\n",
    "\n",
    "pd.options.mode.chained_assignment  = None"
   ]
  },
  {
   "cell_type": "code",
   "execution_count": null,
   "metadata": {},
   "outputs": [],
   "source": [
    "cxr_df_with_stay_id_only = pd.read_csv(os.path.join(\n",
    "    XAMI_SPREADSHEET_FOLDER_PATH, \"cxr_meta_with_stay_id_only.csv\"), index_col=0)\n",
    "cxr_chexpert_df = pd.read_csv(os.path.join(\n",
    "    CXR_FOLDER_PATH, \"mimic-cxr-2.0.0-chexpert.csv.gz\"), compression='gzip', header=0, sep=',', quotechar='\"')\n",
    "cxr_negbio_df = pd.read_csv(os.path.join(\n",
    "    CXR_FOLDER_PATH, \"mimic-cxr-2.0.0-negbio.csv.gz\"), compression='gzip', header=0, sep=',', quotechar='\"')\n",
    "cxr_split_df = pd.read_csv(os.path.join(CXR_FOLDER_PATH, \"mimic-cxr-2.0.0-split.csv.gz\"),\n",
    "                           compression='gzip', header=0, sep=',', quotechar='\"')\n"
   ]
  },
  {
   "cell_type": "code",
   "execution_count": null,
   "metadata": {},
   "outputs": [],
   "source": [
    "cxr_df_with_stay_id_only.head(5)"
   ]
  },
  {
   "cell_type": "code",
   "execution_count": null,
   "metadata": {},
   "outputs": [],
   "source": [
    "all_subjects_in_cxr = list(set(cxr_df_with_stay_id_only[\"subject_id\"]))\n",
    "all_subjects_in_cxr.sort()"
   ]
  },
  {
   "cell_type": "code",
   "execution_count": null,
   "metadata": {},
   "outputs": [],
   "source": [
    "for subject_id in tqdm(all_subjects_in_cxr):\n",
    "\n",
    "    subject_match = cxr_df_with_stay_id_only[cxr_df_with_stay_id_only['subject_id'] == subject_id]\n",
    "    all_stay_ids = list(set(subject_match[\"stay_id\"]))\n",
    "\n",
    "    for stay_id in all_stay_ids:\n",
    "        stay_match = subject_match[subject_match[\"stay_id\"] == stay_id]\n",
    "        all_study_ids = list(set(stay_match['study_id']))\n",
    "\n",
    "        for study_id in all_study_ids:\n",
    "            # CXR-jpg\n",
    "            source_path = os.path.join(\n",
    "                CXR_FOLDER_PATH, \"files\", f\"p{str(subject_id)[:2]}\", f\"p{subject_id}\", f\"s{study_id}\")\n",
    "            save_folder_path = os.path.join(\n",
    "                XAMI_MIMIC_PATH, f\"patient_{subject_id}\", f\"stay_{stay_id}\", \"CXR-JPG\")\n",
    "            os.makedirs(save_folder_path, exist_ok=True)\n",
    "            destination_path = os.path.join(\n",
    "                save_folder_path, f\"study_{study_id}\")\n",
    "            copytree(source_path, destination_path,\n",
    "                     copy_function=copy, dirs_exist_ok=True)\n",
    "\n",
    "            # CXR-meta\n",
    "            match_cxr_meta = cxr_df_with_stay_id_only[cxr_df_with_stay_id_only['study_id'] == study_id]\n",
    "            match_cxr_chexpert = cxr_chexpert_df[cxr_chexpert_df[\"study_id\"] == study_id]\n",
    "            match_cxr_negbio = cxr_negbio_df[cxr_negbio_df[\"study_id\"] == study_id]\n",
    "            match_cxr_split = cxr_split_df[cxr_split_df[\"study_id\"] == study_id]\n",
    "\n",
    "            match_cxr_meta.to_csv(os.path.join(\n",
    "                destination_path, \"cxr_chexpert.csv\"))\n",
    "            match_cxr_chexpert.to_csv(os.path.join(\n",
    "                destination_path, \"cxr_chexpert.csv\"))\n",
    "            match_cxr_negbio.to_csv(os.path.join(\n",
    "                destination_path, \"cxr_negbio.csv\"))\n",
    "            match_cxr_split.to_csv(os.path.join(\n",
    "                destination_path, \"cxr_split.csv\"))\n",
    "\n",
    "            # import the dicom\n",
    "            source_path = os.path.join(\n",
    "                CXR_DICOM_FOLDER_PATH, \"files\",  f\"p{str(subject_id)[:2]}\", f\"p{subject_id}\", f\"s{study_id}\")\n",
    "            save_folder_path = os.path.join(\n",
    "                XAMI_MIMIC_PATH, f\"patient_{subject_id}\", f\"stay_{stay_id}\", \"CXR-DICOM\")\n",
    "            os.makedirs(save_folder_path, exist_ok=True)\n",
    "            destination_path = os.path.join(save_folder_path, f\"study_{study_id}\")\n",
    "            copytree(source_path, destination_path, copy_function=copy, dirs_exist_ok=True)\n",
    "\n",
    "            # ## import report text\n",
    "            source_path = os.path.join(CXR_DICOM_FOLDER_PATH, \"files\", f\"p{str(subject_id)[:2]}\", f\"p{subject_id}\", f\"s{study_id}.txt\")\n",
    "            destination_path = save_folder_path\n",
    "            copy(source_path, destination_path)\n"
   ]
  },
  {
   "cell_type": "code",
   "execution_count": null,
   "metadata": {},
   "outputs": [],
   "source": []
  }
 ],
 "metadata": {
  "kernelspec": {
   "display_name": "Python 3.9.7 ('pytorch')",
   "language": "python",
   "name": "python3"
  },
  "language_info": {
   "codemirror_mode": {
    "name": "ipython",
    "version": 3
   },
   "file_extension": ".py",
   "mimetype": "text/x-python",
   "name": "python",
   "nbconvert_exporter": "python",
   "pygments_lexer": "ipython3",
   "version": "3.9.7"
  },
  "orig_nbformat": 4,
  "vscode": {
   "interpreter": {
    "hash": "52a48fdedee40b77eb251917c5aa239bf02f1ab8c93cc13fe7347f570eadc6b9"
   }
  }
 },
 "nbformat": 4,
 "nbformat_minor": 2
}
